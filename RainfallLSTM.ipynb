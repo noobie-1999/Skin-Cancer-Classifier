{
  "nbformat": 4,
  "nbformat_minor": 0,
  "metadata": {
    "colab": {
      "name": "RainfallLSTM.ipynb",
      "provenance": [],
      "collapsed_sections": [],
      "authorship_tag": "ABX9TyM4gewOPaHuMpsRE+dS46JA",
      "include_colab_link": true
    },
    "kernelspec": {
      "name": "python3",
      "display_name": "Python 3"
    }
  },
  "cells": [
    {
      "cell_type": "markdown",
      "metadata": {
        "id": "view-in-github",
        "colab_type": "text"
      },
      "source": [
        "<a href=\"https://colab.research.google.com/github/noobie-1999/Skin-Cancer-Classifier/blob/master/RainfallLSTM.ipynb\" target=\"_parent\"><img src=\"https://colab.research.google.com/assets/colab-badge.svg\" alt=\"Open In Colab\"/></a>"
      ]
    },
    {
      "cell_type": "code",
      "metadata": {
        "id": "lxi-riAmbotI",
        "colab_type": "code",
        "colab": {
          "base_uri": "https://localhost:8080/",
          "height": 121
        },
        "outputId": "8167546f-6d2c-4d0e-8541-17855f6dffbf"
      },
      "source": [
        "from google.colab import drive\n",
        "drive.mount('/content/drive')"
      ],
      "execution_count": 2,
      "outputs": [
        {
          "output_type": "stream",
          "text": [
            "Go to this URL in a browser: https://accounts.google.com/o/oauth2/auth?client_id=947318989803-6bn6qk8qdgf4n4g3pfee6491hc0brc4i.apps.googleusercontent.com&redirect_uri=urn%3aietf%3awg%3aoauth%3a2.0%3aoob&response_type=code&scope=email%20https%3a%2f%2fwww.googleapis.com%2fauth%2fdocs.test%20https%3a%2f%2fwww.googleapis.com%2fauth%2fdrive%20https%3a%2f%2fwww.googleapis.com%2fauth%2fdrive.photos.readonly%20https%3a%2f%2fwww.googleapis.com%2fauth%2fpeopleapi.readonly\n",
            "\n",
            "Enter your authorization code:\n",
            "··········\n",
            "Mounted at /content/drive\n"
          ],
          "name": "stdout"
        }
      ]
    },
    {
      "cell_type": "code",
      "metadata": {
        "id": "9TPdFpplb-6Z",
        "colab_type": "code",
        "outputId": "ce03be39-c8fe-407b-d88a-fc1861c57720",
        "colab": {
          "base_uri": "https://localhost:8080/",
          "height": 250
        }
      },
      "source": [
        "import pandas as pd\n",
        "import numpy as np\n",
        "import matplotlib.pyplot as plt\n",
        "import seaborn as sns\n",
        "\n",
        "import tensorflow as tf\n",
        "from tensorflow.keras.layers import Dense, LSTM, Input\n",
        "from tensorflow.keras.optimizers import SGD, Adam\n",
        "from tensorflow.keras.models import Model\n",
        "from keras import backend as K\n",
        "K.tensorflow_backend._get_available_gpus()"
      ],
      "execution_count": 3,
      "outputs": [
        {
          "output_type": "display_data",
          "data": {
            "text/html": [
              "<p style=\"color: red;\">\n",
              "The default version of TensorFlow in Colab will soon switch to TensorFlow 2.x.<br>\n",
              "We recommend you <a href=\"https://www.tensorflow.org/guide/migrate\" target=\"_blank\">upgrade</a> now \n",
              "or ensure your notebook will continue to use TensorFlow 1.x via the <code>%tensorflow_version 1.x</code> magic:\n",
              "<a href=\"https://colab.research.google.com/notebooks/tensorflow_version.ipynb\" target=\"_blank\">more info</a>.</p>\n"
            ],
            "text/plain": [
              "<IPython.core.display.HTML object>"
            ]
          },
          "metadata": {
            "tags": []
          }
        },
        {
          "output_type": "stream",
          "text": [
            "WARNING:tensorflow:From /usr/local/lib/python3.6/dist-packages/keras/backend/tensorflow_backend.py:190: The name tf.get_default_session is deprecated. Please use tf.compat.v1.get_default_session instead.\n",
            "\n",
            "WARNING:tensorflow:From /usr/local/lib/python3.6/dist-packages/keras/backend/tensorflow_backend.py:197: The name tf.ConfigProto is deprecated. Please use tf.compat.v1.ConfigProto instead.\n",
            "\n",
            "WARNING:tensorflow:From /usr/local/lib/python3.6/dist-packages/keras/backend/tensorflow_backend.py:203: The name tf.Session is deprecated. Please use tf.compat.v1.Session instead.\n",
            "\n"
          ],
          "name": "stdout"
        },
        {
          "output_type": "stream",
          "text": [
            "Using TensorFlow backend.\n"
          ],
          "name": "stderr"
        },
        {
          "output_type": "stream",
          "text": [
            "WARNING:tensorflow:From /usr/local/lib/python3.6/dist-packages/keras/backend/tensorflow_backend.py:207: The name tf.global_variables is deprecated. Please use tf.compat.v1.global_variables instead.\n",
            "\n"
          ],
          "name": "stdout"
        },
        {
          "output_type": "execute_result",
          "data": {
            "text/plain": [
              "[]"
            ]
          },
          "metadata": {
            "tags": []
          },
          "execution_count": 3
        }
      ]
    },
    {
      "cell_type": "code",
      "metadata": {
        "id": "9F1-0X5cb5RX",
        "colab_type": "code",
        "colab": {}
      },
      "source": [
        "df = pd.read_csv('/content/drive/My Drive/Rainfall Prediction Project/data/combined_csv_2.csv')"
      ],
      "execution_count": 0,
      "outputs": []
    },
    {
      "cell_type": "code",
      "metadata": {
        "id": "0q6-qDScco2d",
        "colab_type": "code",
        "outputId": "fc73db73-f908-4774-d803-165e361fbedb",
        "colab": {
          "base_uri": "https://localhost:8080/",
          "height": 84
        }
      },
      "source": [
        "df.columns"
      ],
      "execution_count": 5,
      "outputs": [
        {
          "output_type": "execute_result",
          "data": {
            "text/plain": [
              "Index(['Date', 'Longitude', 'Latitude', 'Elevation', 'Max Temperature',\n",
              "       'Min Temperature', 'Precipitation', 'Wind', 'Relative Humidity',\n",
              "       'Solar'],\n",
              "      dtype='object')"
            ]
          },
          "metadata": {
            "tags": []
          },
          "execution_count": 5
        }
      ]
    },
    {
      "cell_type": "code",
      "metadata": {
        "id": "132F3u_0czS2",
        "colab_type": "code",
        "outputId": "5aa7bf12-e9d2-4653-8011-0516e21f7c34",
        "colab": {
          "base_uri": "https://localhost:8080/",
          "height": 34
        }
      },
      "source": [
        "df.Latitude.unique().shape"
      ],
      "execution_count": 6,
      "outputs": [
        {
          "output_type": "execute_result",
          "data": {
            "text/plain": [
              "(253,)"
            ]
          },
          "metadata": {
            "tags": []
          },
          "execution_count": 6
        }
      ]
    },
    {
      "cell_type": "code",
      "metadata": {
        "id": "tjfbnuHjc16e",
        "colab_type": "code",
        "outputId": "389a21de-656c-471a-a16a-a1baa1d159af",
        "colab": {
          "base_uri": "https://localhost:8080/",
          "height": 34
        }
      },
      "source": [
        "df.Longitude.unique().shape"
      ],
      "execution_count": 7,
      "outputs": [
        {
          "output_type": "execute_result",
          "data": {
            "text/plain": [
              "(17,)"
            ]
          },
          "metadata": {
            "tags": []
          },
          "execution_count": 7
        }
      ]
    },
    {
      "cell_type": "code",
      "metadata": {
        "id": "9h4S6bvndG0y",
        "colab_type": "code",
        "outputId": "f6962b2c-ee47-48e7-d373-82929e11e4b1",
        "colab": {
          "base_uri": "https://localhost:8080/",
          "height": 34
        }
      },
      "source": [
        "df.Elevation.unique().shape"
      ],
      "execution_count": 8,
      "outputs": [
        {
          "output_type": "execute_result",
          "data": {
            "text/plain": [
              "(54772,)"
            ]
          },
          "metadata": {
            "tags": []
          },
          "execution_count": 8
        }
      ]
    },
    {
      "cell_type": "code",
      "metadata": {
        "id": "ojVXGlF8dNhf",
        "colab_type": "code",
        "outputId": "976847ed-9e55-4b14-9e50-78ae94d01152",
        "colab": {
          "base_uri": "https://localhost:8080/",
          "height": 34
        }
      },
      "source": [
        "df[df['Longitude']==73.4375].Latitude.unique()"
      ],
      "execution_count": 9,
      "outputs": [
        {
          "output_type": "execute_result",
          "data": {
            "text/plain": [
              "array([], dtype=int64)"
            ]
          },
          "metadata": {
            "tags": []
          },
          "execution_count": 9
        }
      ]
    },
    {
      "cell_type": "code",
      "metadata": {
        "id": "Spt76BiCdYUf",
        "colab_type": "code",
        "outputId": "286a3354-4f58-4548-a0fe-0e259d2487ee",
        "colab": {
          "base_uri": "https://localhost:8080/",
          "height": 218
        }
      },
      "source": [
        "df['Date']"
      ],
      "execution_count": 10,
      "outputs": [
        {
          "output_type": "execute_result",
          "data": {
            "text/plain": [
              "0          73.4375\n",
              "1          73.4375\n",
              "2          73.4375\n",
              "3          73.4375\n",
              "4          73.4375\n",
              "            ...   \n",
              "5274619    80.6250\n",
              "5274620    80.6250\n",
              "5274621    80.6250\n",
              "5274622    80.6250\n",
              "5274623    80.6250\n",
              "Name: Date, Length: 5274624, dtype: float64"
            ]
          },
          "metadata": {
            "tags": []
          },
          "execution_count": 10
        }
      ]
    },
    {
      "cell_type": "code",
      "metadata": {
        "id": "mQuOfQ0Jd9r2",
        "colab_type": "code",
        "colab": {}
      },
      "source": [
        "df = df.drop(columns=[\"Solar\"])"
      ],
      "execution_count": 0,
      "outputs": []
    },
    {
      "cell_type": "code",
      "metadata": {
        "id": "J5B3VbRYe8BO",
        "colab_type": "code",
        "outputId": "3f901a9e-a22c-4a1d-f0f3-6cd77c7b452e",
        "colab": {
          "base_uri": "https://localhost:8080/",
          "height": 67
        }
      },
      "source": [
        "df.columns"
      ],
      "execution_count": 12,
      "outputs": [
        {
          "output_type": "execute_result",
          "data": {
            "text/plain": [
              "Index(['Date', 'Longitude', 'Latitude', 'Elevation', 'Max Temperature',\n",
              "       'Min Temperature', 'Precipitation', 'Wind', 'Relative Humidity'],\n",
              "      dtype='object')"
            ]
          },
          "metadata": {
            "tags": []
          },
          "execution_count": 12
        }
      ]
    },
    {
      "cell_type": "code",
      "metadata": {
        "id": "fKOyx9QnfW0E",
        "colab_type": "code",
        "colab": {}
      },
      "source": [
        "df = df.rename(columns={'Date':'Longitude','Longitude':'Latitude','Latitude':'Elevation','Elevation':'Max Temperature','Max Temperature':'Min Temperature','Min Temperature':'Precipitation','Precipitation':'Wind','Wind':'Relative Humidity','Relative Humidity':'Solar'})"
      ],
      "execution_count": 0,
      "outputs": []
    },
    {
      "cell_type": "code",
      "metadata": {
        "id": "qX3o4bHBgNmL",
        "colab_type": "code",
        "outputId": "404f39ec-a032-48a7-8bbd-d8e8dfdf6392",
        "colab": {
          "base_uri": "https://localhost:8080/",
          "height": 84
        }
      },
      "source": [
        "df.columns"
      ],
      "execution_count": 14,
      "outputs": [
        {
          "output_type": "execute_result",
          "data": {
            "text/plain": [
              "Index(['Longitude', 'Latitude', 'Elevation', 'Max Temperature',\n",
              "       'Min Temperature', 'Precipitation', 'Wind', 'Relative Humidity',\n",
              "       'Solar'],\n",
              "      dtype='object')"
            ]
          },
          "metadata": {
            "tags": []
          },
          "execution_count": 14
        }
      ]
    },
    {
      "cell_type": "code",
      "metadata": {
        "id": "GVsuxyNxgO5V",
        "colab_type": "code",
        "outputId": "a1224a87-df39-41ab-cfce-fb2060876999",
        "colab": {
          "base_uri": "https://localhost:8080/",
          "height": 195
        }
      },
      "source": [
        "df.head()"
      ],
      "execution_count": 15,
      "outputs": [
        {
          "output_type": "execute_result",
          "data": {
            "text/html": [
              "<div>\n",
              "<style scoped>\n",
              "    .dataframe tbody tr th:only-of-type {\n",
              "        vertical-align: middle;\n",
              "    }\n",
              "\n",
              "    .dataframe tbody tr th {\n",
              "        vertical-align: top;\n",
              "    }\n",
              "\n",
              "    .dataframe thead th {\n",
              "        text-align: right;\n",
              "    }\n",
              "</style>\n",
              "<table border=\"1\" class=\"dataframe\">\n",
              "  <thead>\n",
              "    <tr style=\"text-align: right;\">\n",
              "      <th></th>\n",
              "      <th>Longitude</th>\n",
              "      <th>Latitude</th>\n",
              "      <th>Elevation</th>\n",
              "      <th>Max Temperature</th>\n",
              "      <th>Min Temperature</th>\n",
              "      <th>Precipitation</th>\n",
              "      <th>Wind</th>\n",
              "      <th>Relative Humidity</th>\n",
              "      <th>Solar</th>\n",
              "    </tr>\n",
              "  </thead>\n",
              "  <tbody>\n",
              "    <tr>\n",
              "      <th>0</th>\n",
              "      <td>73.4375</td>\n",
              "      <td>25.134399</td>\n",
              "      <td>378</td>\n",
              "      <td>25.938</td>\n",
              "      <td>10.058</td>\n",
              "      <td>0.0</td>\n",
              "      <td>2.576643</td>\n",
              "      <td>0.252023</td>\n",
              "      <td>15.624735</td>\n",
              "    </tr>\n",
              "    <tr>\n",
              "      <th>1</th>\n",
              "      <td>73.4375</td>\n",
              "      <td>25.134399</td>\n",
              "      <td>378</td>\n",
              "      <td>24.660</td>\n",
              "      <td>6.555</td>\n",
              "      <td>0.0</td>\n",
              "      <td>2.264984</td>\n",
              "      <td>0.321919</td>\n",
              "      <td>15.858560</td>\n",
              "    </tr>\n",
              "    <tr>\n",
              "      <th>2</th>\n",
              "      <td>73.4375</td>\n",
              "      <td>25.134399</td>\n",
              "      <td>378</td>\n",
              "      <td>22.851</td>\n",
              "      <td>5.696</td>\n",
              "      <td>0.0</td>\n",
              "      <td>2.686659</td>\n",
              "      <td>0.433333</td>\n",
              "      <td>15.908623</td>\n",
              "    </tr>\n",
              "    <tr>\n",
              "      <th>3</th>\n",
              "      <td>73.4375</td>\n",
              "      <td>25.134399</td>\n",
              "      <td>378</td>\n",
              "      <td>22.863</td>\n",
              "      <td>7.659</td>\n",
              "      <td>0.0</td>\n",
              "      <td>3.408720</td>\n",
              "      <td>0.392152</td>\n",
              "      <td>16.000143</td>\n",
              "    </tr>\n",
              "    <tr>\n",
              "      <th>4</th>\n",
              "      <td>73.4375</td>\n",
              "      <td>25.134399</td>\n",
              "      <td>378</td>\n",
              "      <td>23.757</td>\n",
              "      <td>6.847</td>\n",
              "      <td>0.0</td>\n",
              "      <td>2.448195</td>\n",
              "      <td>0.331057</td>\n",
              "      <td>16.228858</td>\n",
              "    </tr>\n",
              "  </tbody>\n",
              "</table>\n",
              "</div>"
            ],
            "text/plain": [
              "   Longitude   Latitude  Elevation  ...      Wind  Relative Humidity      Solar\n",
              "0    73.4375  25.134399        378  ...  2.576643           0.252023  15.624735\n",
              "1    73.4375  25.134399        378  ...  2.264984           0.321919  15.858560\n",
              "2    73.4375  25.134399        378  ...  2.686659           0.433333  15.908623\n",
              "3    73.4375  25.134399        378  ...  3.408720           0.392152  16.000143\n",
              "4    73.4375  25.134399        378  ...  2.448195           0.331057  16.228858\n",
              "\n",
              "[5 rows x 9 columns]"
            ]
          },
          "metadata": {
            "tags": []
          },
          "execution_count": 15
        }
      ]
    },
    {
      "cell_type": "code",
      "metadata": {
        "id": "9kyWKTH4gQYV",
        "colab_type": "code",
        "colab": {}
      },
      "source": [
        "df = df[df['Elevation']==378]"
      ],
      "execution_count": 0,
      "outputs": []
    },
    {
      "cell_type": "code",
      "metadata": {
        "id": "kDsnaKyGgzfz",
        "colab_type": "code",
        "outputId": "0c8854db-8cf2-4ca2-ec08-675fdf32c5b3",
        "colab": {
          "base_uri": "https://localhost:8080/",
          "height": 402
        }
      },
      "source": [
        "df"
      ],
      "execution_count": 17,
      "outputs": [
        {
          "output_type": "execute_result",
          "data": {
            "text/html": [
              "<div>\n",
              "<style scoped>\n",
              "    .dataframe tbody tr th:only-of-type {\n",
              "        vertical-align: middle;\n",
              "    }\n",
              "\n",
              "    .dataframe tbody tr th {\n",
              "        vertical-align: top;\n",
              "    }\n",
              "\n",
              "    .dataframe thead th {\n",
              "        text-align: right;\n",
              "    }\n",
              "</style>\n",
              "<table border=\"1\" class=\"dataframe\">\n",
              "  <thead>\n",
              "    <tr style=\"text-align: right;\">\n",
              "      <th></th>\n",
              "      <th>Longitude</th>\n",
              "      <th>Latitude</th>\n",
              "      <th>Elevation</th>\n",
              "      <th>Max Temperature</th>\n",
              "      <th>Min Temperature</th>\n",
              "      <th>Precipitation</th>\n",
              "      <th>Wind</th>\n",
              "      <th>Relative Humidity</th>\n",
              "      <th>Solar</th>\n",
              "    </tr>\n",
              "  </thead>\n",
              "  <tbody>\n",
              "    <tr>\n",
              "      <th>0</th>\n",
              "      <td>73.4375</td>\n",
              "      <td>25.134399</td>\n",
              "      <td>378</td>\n",
              "      <td>25.938</td>\n",
              "      <td>10.058</td>\n",
              "      <td>0.000000</td>\n",
              "      <td>2.576643</td>\n",
              "      <td>0.252023</td>\n",
              "      <td>15.624735</td>\n",
              "    </tr>\n",
              "    <tr>\n",
              "      <th>1</th>\n",
              "      <td>73.4375</td>\n",
              "      <td>25.134399</td>\n",
              "      <td>378</td>\n",
              "      <td>24.660</td>\n",
              "      <td>6.555</td>\n",
              "      <td>0.000000</td>\n",
              "      <td>2.264984</td>\n",
              "      <td>0.321919</td>\n",
              "      <td>15.858560</td>\n",
              "    </tr>\n",
              "    <tr>\n",
              "      <th>2</th>\n",
              "      <td>73.4375</td>\n",
              "      <td>25.134399</td>\n",
              "      <td>378</td>\n",
              "      <td>22.851</td>\n",
              "      <td>5.696</td>\n",
              "      <td>0.000000</td>\n",
              "      <td>2.686659</td>\n",
              "      <td>0.433333</td>\n",
              "      <td>15.908623</td>\n",
              "    </tr>\n",
              "    <tr>\n",
              "      <th>3</th>\n",
              "      <td>73.4375</td>\n",
              "      <td>25.134399</td>\n",
              "      <td>378</td>\n",
              "      <td>22.863</td>\n",
              "      <td>7.659</td>\n",
              "      <td>0.000000</td>\n",
              "      <td>3.408720</td>\n",
              "      <td>0.392152</td>\n",
              "      <td>16.000143</td>\n",
              "    </tr>\n",
              "    <tr>\n",
              "      <th>4</th>\n",
              "      <td>73.4375</td>\n",
              "      <td>25.134399</td>\n",
              "      <td>378</td>\n",
              "      <td>23.757</td>\n",
              "      <td>6.847</td>\n",
              "      <td>0.000000</td>\n",
              "      <td>2.448195</td>\n",
              "      <td>0.331057</td>\n",
              "      <td>16.228858</td>\n",
              "    </tr>\n",
              "    <tr>\n",
              "      <th>...</th>\n",
              "      <td>...</td>\n",
              "      <td>...</td>\n",
              "      <td>...</td>\n",
              "      <td>...</td>\n",
              "      <td>...</td>\n",
              "      <td>...</td>\n",
              "      <td>...</td>\n",
              "      <td>...</td>\n",
              "      <td>...</td>\n",
              "    </tr>\n",
              "    <tr>\n",
              "      <th>12923</th>\n",
              "      <td>73.4375</td>\n",
              "      <td>25.134399</td>\n",
              "      <td>378</td>\n",
              "      <td>31.039</td>\n",
              "      <td>24.313</td>\n",
              "      <td>41.298310</td>\n",
              "      <td>2.210125</td>\n",
              "      <td>0.813754</td>\n",
              "      <td>23.228179</td>\n",
              "    </tr>\n",
              "    <tr>\n",
              "      <th>12924</th>\n",
              "      <td>73.4375</td>\n",
              "      <td>25.134399</td>\n",
              "      <td>378</td>\n",
              "      <td>30.347</td>\n",
              "      <td>24.610</td>\n",
              "      <td>22.930524</td>\n",
              "      <td>1.924770</td>\n",
              "      <td>0.838898</td>\n",
              "      <td>10.807017</td>\n",
              "    </tr>\n",
              "    <tr>\n",
              "      <th>12925</th>\n",
              "      <td>73.4375</td>\n",
              "      <td>25.134399</td>\n",
              "      <td>378</td>\n",
              "      <td>33.274</td>\n",
              "      <td>24.667</td>\n",
              "      <td>26.691629</td>\n",
              "      <td>1.386035</td>\n",
              "      <td>0.788968</td>\n",
              "      <td>17.757327</td>\n",
              "    </tr>\n",
              "    <tr>\n",
              "      <th>12926</th>\n",
              "      <td>73.4375</td>\n",
              "      <td>25.134399</td>\n",
              "      <td>378</td>\n",
              "      <td>32.104</td>\n",
              "      <td>24.775</td>\n",
              "      <td>28.763582</td>\n",
              "      <td>0.961550</td>\n",
              "      <td>0.782874</td>\n",
              "      <td>24.035697</td>\n",
              "    </tr>\n",
              "    <tr>\n",
              "      <th>12927</th>\n",
              "      <td>73.4375</td>\n",
              "      <td>25.134399</td>\n",
              "      <td>378</td>\n",
              "      <td>32.764</td>\n",
              "      <td>24.924</td>\n",
              "      <td>9.722900</td>\n",
              "      <td>1.657647</td>\n",
              "      <td>0.756397</td>\n",
              "      <td>12.986659</td>\n",
              "    </tr>\n",
              "  </tbody>\n",
              "</table>\n",
              "<p>12928 rows × 9 columns</p>\n",
              "</div>"
            ],
            "text/plain": [
              "       Longitude   Latitude  Elevation  ...      Wind  Relative Humidity      Solar\n",
              "0        73.4375  25.134399        378  ...  2.576643           0.252023  15.624735\n",
              "1        73.4375  25.134399        378  ...  2.264984           0.321919  15.858560\n",
              "2        73.4375  25.134399        378  ...  2.686659           0.433333  15.908623\n",
              "3        73.4375  25.134399        378  ...  3.408720           0.392152  16.000143\n",
              "4        73.4375  25.134399        378  ...  2.448195           0.331057  16.228858\n",
              "...          ...        ...        ...  ...       ...                ...        ...\n",
              "12923    73.4375  25.134399        378  ...  2.210125           0.813754  23.228179\n",
              "12924    73.4375  25.134399        378  ...  1.924770           0.838898  10.807017\n",
              "12925    73.4375  25.134399        378  ...  1.386035           0.788968  17.757327\n",
              "12926    73.4375  25.134399        378  ...  0.961550           0.782874  24.035697\n",
              "12927    73.4375  25.134399        378  ...  1.657647           0.756397  12.986659\n",
              "\n",
              "[12928 rows x 9 columns]"
            ]
          },
          "metadata": {
            "tags": []
          },
          "execution_count": 17
        }
      ]
    },
    {
      "cell_type": "code",
      "metadata": {
        "id": "fCJnua-7g03V",
        "colab_type": "code",
        "colab": {}
      },
      "source": [
        "#parameters\n",
        "\n",
        "T = 15\n",
        "D = 6\n",
        "N = 0\n",
        "num_samples = df.shape[0]\n",
        "\n",
        "def create_dataset():\n",
        "  X = []\n",
        "  y = []\n",
        "  for i in range(num_samples-T):\n",
        "    features = []\n",
        "    label = []\n",
        "    for j in range(i,i+T):\n",
        "      features.append([df.iloc[i]['Max Temperature'], df.iloc[i]['Min Temperature'], df.iloc[i]['Precipitation'], df.iloc[i]['Wind'], df.iloc[i]['Relative Humidity'], df.iloc[i]['Solar']])\n",
        "    label = [df.iloc[i]['Max Temperature'], df.iloc[i]['Min Temperature'], df.iloc[i]['Precipitation'], df.iloc[i]['Wind'], df.iloc[i]['Relative Humidity'], df.iloc[i]['Solar']]\n",
        "    X.append(features)\n",
        "    y.append(label)\n",
        "\n",
        "  X = np.array(X)\n",
        "  y = np.array(y)\n",
        "\n",
        "  return X,y"
      ],
      "execution_count": 0,
      "outputs": []
    },
    {
      "cell_type": "code",
      "metadata": {
        "id": "G0vd4HMLhW26",
        "colab_type": "code",
        "colab": {}
      },
      "source": [
        "X,y = create_dataset()"
      ],
      "execution_count": 0,
      "outputs": []
    },
    {
      "cell_type": "code",
      "metadata": {
        "id": "6EyYBIIjzVdV",
        "colab_type": "code",
        "outputId": "769926b2-8bf6-4333-8e8e-72f79a613fb3",
        "colab": {
          "base_uri": "https://localhost:8080/",
          "height": 34
        }
      },
      "source": [
        "X.shape"
      ],
      "execution_count": 20,
      "outputs": [
        {
          "output_type": "execute_result",
          "data": {
            "text/plain": [
              "(12913, 15, 6)"
            ]
          },
          "metadata": {
            "tags": []
          },
          "execution_count": 20
        }
      ]
    },
    {
      "cell_type": "code",
      "metadata": {
        "id": "snCdm37wzpQX",
        "colab_type": "code",
        "outputId": "e3b6d8e2-4cb4-4e95-9abc-e527e3fedc36",
        "colab": {
          "base_uri": "https://localhost:8080/",
          "height": 34
        }
      },
      "source": [
        "N = X.shape[0]\n",
        "y.shape"
      ],
      "execution_count": 21,
      "outputs": [
        {
          "output_type": "execute_result",
          "data": {
            "text/plain": [
              "(12913, 6)"
            ]
          },
          "metadata": {
            "tags": []
          },
          "execution_count": 21
        }
      ]
    },
    {
      "cell_type": "code",
      "metadata": {
        "id": "yI-o9TkBAYlf",
        "colab_type": "code",
        "colab": {}
      },
      "source": [
        "def rmse(y_true, y_pred):\n",
        "\treturn K.sqrt(K.mean(K.square(y_pred - y_true), axis=-1))"
      ],
      "execution_count": 0,
      "outputs": []
    },
    {
      "cell_type": "code",
      "metadata": {
        "id": "ixPbIrk10g9r",
        "colab_type": "code",
        "colab": {}
      },
      "source": [
        "i = Input(shape=(T,D))\n",
        "x = LSTM(15, activation='tanh')(i)\n",
        "x = Dense(6, activation='relu')(x)"
      ],
      "execution_count": 0,
      "outputs": []
    },
    {
      "cell_type": "code",
      "metadata": {
        "id": "8ldtPb-c48v3",
        "colab_type": "code",
        "colab": {}
      },
      "source": [
        "model = Model(i,x)"
      ],
      "execution_count": 0,
      "outputs": []
    },
    {
      "cell_type": "code",
      "metadata": {
        "id": "sYuujsww5AHc",
        "colab_type": "code",
        "colab": {}
      },
      "source": [
        "model.compile(optimizer=Adam(), loss='mse', metrics=[rmse])"
      ],
      "execution_count": 0,
      "outputs": []
    },
    {
      "cell_type": "code",
      "metadata": {
        "id": "C1iUYGD55HEN",
        "colab_type": "code",
        "colab": {}
      },
      "source": [
        "train_num = int(N*0.7)"
      ],
      "execution_count": 0,
      "outputs": []
    },
    {
      "cell_type": "code",
      "metadata": {
        "id": "9uEa90g65Ptu",
        "colab_type": "code",
        "outputId": "2b8d3fa2-166e-4b9c-c539-c73465320ce6",
        "colab": {
          "base_uri": "https://localhost:8080/",
          "height": 34
        }
      },
      "source": [
        "train_num"
      ],
      "execution_count": 30,
      "outputs": [
        {
          "output_type": "execute_result",
          "data": {
            "text/plain": [
              "9039"
            ]
          },
          "metadata": {
            "tags": []
          },
          "execution_count": 30
        }
      ]
    },
    {
      "cell_type": "code",
      "metadata": {
        "id": "P1ymAinM5RMs",
        "colab_type": "code",
        "outputId": "c209f4d7-165d-4402-e756-1e6f703da5e4",
        "colab": {
          "base_uri": "https://localhost:8080/",
          "height": 34
        }
      },
      "source": [
        "N-train_num"
      ],
      "execution_count": 31,
      "outputs": [
        {
          "output_type": "execute_result",
          "data": {
            "text/plain": [
              "3874"
            ]
          },
          "metadata": {
            "tags": []
          },
          "execution_count": 31
        }
      ]
    },
    {
      "cell_type": "code",
      "metadata": {
        "id": "yEeG4g4DEe4J",
        "colab_type": "code",
        "colab": {
          "base_uri": "https://localhost:8080/",
          "height": 1000
        },
        "outputId": "b4dbfc39-6e2d-48eb-9de7-0f79f83bd3d7"
      },
      "source": [
        "model_historu = model.fit(X[:train_num], y[:train_num], epochs=70, validation_data=(X[train_num:], y[train_num:]))"
      ],
      "execution_count": 32,
      "outputs": [
        {
          "output_type": "stream",
          "text": [
            "WARNING:tensorflow:From /usr/local/lib/python3.6/dist-packages/tensorflow_core/python/ops/math_grad.py:1424: where (from tensorflow.python.ops.array_ops) is deprecated and will be removed in a future version.\n",
            "Instructions for updating:\n",
            "Use tf.where in 2.0, which has the same broadcast rule as np.where\n",
            "Train on 9039 samples, validate on 3874 samples\n",
            "Epoch 1/70\n",
            "9039/9039 [==============================] - 4s 465us/sample - loss: 289.2446 - rmse: 16.5307 - val_loss: 249.6353 - val_rmse: 15.3844\n",
            "Epoch 2/70\n",
            "9039/9039 [==============================] - 4s 424us/sample - loss: 225.0728 - rmse: 14.4722 - val_loss: 197.9046 - val_rmse: 13.6099\n",
            "Epoch 3/70\n",
            "9039/9039 [==============================] - 4s 405us/sample - loss: 179.6577 - rmse: 12.8172 - val_loss: 157.2664 - val_rmse: 12.0410\n",
            "Epoch 4/70\n",
            "9039/9039 [==============================] - 4s 422us/sample - loss: 140.0995 - rmse: 11.1756 - val_loss: 114.6344 - val_rmse: 10.1562\n",
            "Epoch 5/70\n",
            "9039/9039 [==============================] - 4s 413us/sample - loss: 101.0000 - rmse: 9.3112 - val_loss: 83.1966 - val_rmse: 8.5391\n",
            "Epoch 6/70\n",
            "9039/9039 [==============================] - 4s 398us/sample - loss: 76.4504 - rmse: 7.9613 - val_loss: 63.4113 - val_rmse: 7.3723\n",
            "Epoch 7/70\n",
            "9039/9039 [==============================] - 4s 413us/sample - loss: 60.2559 - rmse: 6.9511 - val_loss: 49.8414 - val_rmse: 6.4705\n",
            "Epoch 8/70\n",
            "9039/9039 [==============================] - 4s 406us/sample - loss: 48.8516 - rmse: 6.1507 - val_loss: 39.8490 - val_rmse: 5.7139\n",
            "Epoch 9/70\n",
            "9039/9039 [==============================] - 4s 415us/sample - loss: 40.2754 - rmse: 5.4727 - val_loss: 32.3448 - val_rmse: 5.0800\n",
            "Epoch 10/70\n",
            "9039/9039 [==============================] - 4s 414us/sample - loss: 33.6831 - rmse: 4.8843 - val_loss: 26.3718 - val_rmse: 4.5012\n",
            "Epoch 11/70\n",
            "9039/9039 [==============================] - 4s 425us/sample - loss: 28.3834 - rmse: 4.3522 - val_loss: 21.8677 - val_rmse: 4.0215\n",
            "Epoch 12/70\n",
            "9039/9039 [==============================] - 4s 419us/sample - loss: 24.4009 - rmse: 3.9130 - val_loss: 18.3802 - val_rmse: 3.6104\n",
            "Epoch 13/70\n",
            "9039/9039 [==============================] - 4s 418us/sample - loss: 21.2852 - rmse: 3.5336 - val_loss: 15.6195 - val_rmse: 3.2485\n",
            "Epoch 14/70\n",
            "9039/9039 [==============================] - 4s 410us/sample - loss: 18.7907 - rmse: 3.2016 - val_loss: 13.4703 - val_rmse: 2.9499\n",
            "Epoch 15/70\n",
            "9039/9039 [==============================] - 4s 400us/sample - loss: 16.8191 - rmse: 2.9258 - val_loss: 11.7552 - val_rmse: 2.6913\n",
            "Epoch 16/70\n",
            "9039/9039 [==============================] - 4s 403us/sample - loss: 15.2028 - rmse: 2.6862 - val_loss: 10.3626 - val_rmse: 2.4676\n",
            "Epoch 17/70\n",
            "9039/9039 [==============================] - 4s 411us/sample - loss: 13.8527 - rmse: 2.4746 - val_loss: 9.2104 - val_rmse: 2.2715\n",
            "Epoch 18/70\n",
            "9039/9039 [==============================] - 4s 423us/sample - loss: 12.7090 - rmse: 2.2842 - val_loss: 8.2186 - val_rmse: 2.0851\n",
            "Epoch 19/70\n",
            "9039/9039 [==============================] - 4s 396us/sample - loss: 11.7220 - rmse: 2.1094 - val_loss: 7.3995 - val_rmse: 1.9300\n",
            "Epoch 20/70\n",
            "9039/9039 [==============================] - 4s 432us/sample - loss: 10.8625 - rmse: 1.9520 - val_loss: 6.6825 - val_rmse: 1.7703\n",
            "Epoch 21/70\n",
            "9039/9039 [==============================] - 4s 401us/sample - loss: 10.1164 - rmse: 1.8064 - val_loss: 6.0713 - val_rmse: 1.6468\n",
            "Epoch 22/70\n",
            "9039/9039 [==============================] - 4s 391us/sample - loss: 9.4675 - rmse: 1.6815 - val_loss: 5.5577 - val_rmse: 1.5312\n",
            "Epoch 23/70\n",
            "9039/9039 [==============================] - 4s 407us/sample - loss: 8.8992 - rmse: 1.5667 - val_loss: 5.1032 - val_rmse: 1.4202\n",
            "Epoch 24/70\n",
            "9039/9039 [==============================] - 4s 413us/sample - loss: 8.4592 - rmse: 1.4682 - val_loss: 4.7143 - val_rmse: 1.3206\n",
            "Epoch 25/70\n",
            "9039/9039 [==============================] - 4s 423us/sample - loss: 7.9692 - rmse: 1.3749 - val_loss: 4.3884 - val_rmse: 1.2388\n",
            "Epoch 26/70\n",
            "9039/9039 [==============================] - 4s 400us/sample - loss: 7.5796 - rmse: 1.2957 - val_loss: 4.0984 - val_rmse: 1.1634\n",
            "Epoch 27/70\n",
            "9039/9039 [==============================] - 4s 401us/sample - loss: 7.2304 - rmse: 1.2223 - val_loss: 3.8481 - val_rmse: 1.0940\n",
            "Epoch 28/70\n",
            "9039/9039 [==============================] - 4s 400us/sample - loss: 6.9147 - rmse: 1.1515 - val_loss: 3.6153 - val_rmse: 1.0285\n",
            "Epoch 29/70\n",
            "9039/9039 [==============================] - 4s 404us/sample - loss: 6.6208 - rmse: 1.0871 - val_loss: 3.4091 - val_rmse: 0.9702\n",
            "Epoch 30/70\n",
            "9039/9039 [==============================] - 4s 407us/sample - loss: 6.3499 - rmse: 1.0290 - val_loss: 3.2265 - val_rmse: 0.9140\n",
            "Epoch 31/70\n",
            "9039/9039 [==============================] - 4s 394us/sample - loss: 6.0766 - rmse: 0.9582 - val_loss: 3.0418 - val_rmse: 0.8571\n",
            "Epoch 32/70\n",
            "9039/9039 [==============================] - 4s 410us/sample - loss: 5.8137 - rmse: 0.8811 - val_loss: 2.8316 - val_rmse: 0.7741\n",
            "Epoch 33/70\n",
            "9039/9039 [==============================] - 4s 395us/sample - loss: 5.5743 - rmse: 0.8137 - val_loss: 2.6707 - val_rmse: 0.7117\n",
            "Epoch 34/70\n",
            "9039/9039 [==============================] - 4s 403us/sample - loss: 5.3604 - rmse: 0.7530 - val_loss: 2.5264 - val_rmse: 0.6620\n",
            "Epoch 35/70\n",
            "9039/9039 [==============================] - 4s 410us/sample - loss: 5.1629 - rmse: 0.7002 - val_loss: 2.3931 - val_rmse: 0.6090\n",
            "Epoch 36/70\n",
            "9039/9039 [==============================] - 4s 404us/sample - loss: 4.9793 - rmse: 0.6520 - val_loss: 2.2825 - val_rmse: 0.5692\n",
            "Epoch 37/70\n",
            "9039/9039 [==============================] - 4s 413us/sample - loss: 4.8104 - rmse: 0.6087 - val_loss: 2.1826 - val_rmse: 0.5381\n",
            "Epoch 38/70\n",
            "9039/9039 [==============================] - 4s 395us/sample - loss: 4.6505 - rmse: 0.5731 - val_loss: 2.0744 - val_rmse: 0.4896\n",
            "Epoch 39/70\n",
            "9039/9039 [==============================] - 4s 406us/sample - loss: 4.4960 - rmse: 0.5346 - val_loss: 1.9869 - val_rmse: 0.4619\n",
            "Epoch 40/70\n",
            "9039/9039 [==============================] - 4s 394us/sample - loss: 4.3549 - rmse: 0.5050 - val_loss: 1.8950 - val_rmse: 0.4224\n",
            "Epoch 41/70\n",
            "9039/9039 [==============================] - 4s 428us/sample - loss: 4.2215 - rmse: 0.4733 - val_loss: 1.8199 - val_rmse: 0.4001\n",
            "Epoch 42/70\n",
            "9039/9039 [==============================] - 4s 416us/sample - loss: 4.0950 - rmse: 0.4441 - val_loss: 1.7395 - val_rmse: 0.3591\n",
            "Epoch 43/70\n",
            "9039/9039 [==============================] - 4s 411us/sample - loss: 3.9715 - rmse: 0.4130 - val_loss: 1.6788 - val_rmse: 0.3583\n",
            "Epoch 44/70\n",
            "9039/9039 [==============================] - 4s 397us/sample - loss: 3.8541 - rmse: 0.3931 - val_loss: 1.6072 - val_rmse: 0.3089\n",
            "Epoch 45/70\n",
            "9039/9039 [==============================] - 4s 414us/sample - loss: 3.7549 - rmse: 0.3730 - val_loss: 1.5513 - val_rmse: 0.3116\n",
            "Epoch 46/70\n",
            "9039/9039 [==============================] - 4s 411us/sample - loss: 3.6330 - rmse: 0.3546 - val_loss: 1.4889 - val_rmse: 0.2721\n",
            "Epoch 47/70\n",
            "9039/9039 [==============================] - 4s 390us/sample - loss: 3.5285 - rmse: 0.3342 - val_loss: 1.4367 - val_rmse: 0.2605\n",
            "Epoch 48/70\n",
            "9039/9039 [==============================] - 4s 404us/sample - loss: 3.4248 - rmse: 0.3213 - val_loss: 1.3894 - val_rmse: 0.2606\n",
            "Epoch 49/70\n",
            "9039/9039 [==============================] - 4s 395us/sample - loss: 3.3265 - rmse: 0.3067 - val_loss: 1.3362 - val_rmse: 0.2442\n",
            "Epoch 50/70\n",
            "9039/9039 [==============================] - 4s 404us/sample - loss: 3.2316 - rmse: 0.2866 - val_loss: 1.2926 - val_rmse: 0.2286\n",
            "Epoch 51/70\n",
            "9039/9039 [==============================] - 4s 401us/sample - loss: 3.1446 - rmse: 0.2794 - val_loss: 1.2479 - val_rmse: 0.2144\n",
            "Epoch 52/70\n",
            "9039/9039 [==============================] - 4s 399us/sample - loss: 3.0567 - rmse: 0.2634 - val_loss: 1.2079 - val_rmse: 0.2049\n",
            "Epoch 53/70\n",
            "9039/9039 [==============================] - 4s 405us/sample - loss: 2.9741 - rmse: 0.2547 - val_loss: 1.1674 - val_rmse: 0.1795\n",
            "Epoch 54/70\n",
            "9039/9039 [==============================] - 4s 399us/sample - loss: 2.8945 - rmse: 0.2476 - val_loss: 1.1366 - val_rmse: 0.1805\n",
            "Epoch 55/70\n",
            "9039/9039 [==============================] - 4s 392us/sample - loss: 2.8162 - rmse: 0.2388 - val_loss: 1.1190 - val_rmse: 0.1905\n",
            "Epoch 56/70\n",
            "9039/9039 [==============================] - 4s 413us/sample - loss: 2.7429 - rmse: 0.2356 - val_loss: 1.2438 - val_rmse: 0.1778\n",
            "Epoch 57/70\n",
            "9039/9039 [==============================] - 4s 438us/sample - loss: 2.6764 - rmse: 0.2282 - val_loss: 1.0374 - val_rmse: 0.1745\n",
            "Epoch 58/70\n",
            "9039/9039 [==============================] - 4s 417us/sample - loss: 2.5981 - rmse: 0.2148 - val_loss: 1.0112 - val_rmse: 0.1673\n",
            "Epoch 59/70\n",
            "9039/9039 [==============================] - 3s 387us/sample - loss: 2.5318 - rmse: 0.2141 - val_loss: 0.9800 - val_rmse: 0.1576\n",
            "Epoch 60/70\n",
            "9039/9039 [==============================] - 4s 405us/sample - loss: 2.4684 - rmse: 0.2099 - val_loss: 0.9561 - val_rmse: 0.1716\n",
            "Epoch 61/70\n",
            "9039/9039 [==============================] - 4s 408us/sample - loss: 2.4042 - rmse: 0.2013 - val_loss: 0.9266 - val_rmse: 0.1540\n",
            "Epoch 62/70\n",
            "9039/9039 [==============================] - 4s 396us/sample - loss: 2.3410 - rmse: 0.1957 - val_loss: 0.9007 - val_rmse: 0.1581\n",
            "Epoch 63/70\n",
            "9039/9039 [==============================] - 4s 393us/sample - loss: 2.2834 - rmse: 0.1911 - val_loss: 0.8749 - val_rmse: 0.1326\n",
            "Epoch 64/70\n",
            "9039/9039 [==============================] - 4s 437us/sample - loss: 2.2274 - rmse: 0.1904 - val_loss: 0.8561 - val_rmse: 0.1448\n",
            "Epoch 65/70\n",
            "9039/9039 [==============================] - 4s 461us/sample - loss: 2.1712 - rmse: 0.1850 - val_loss: 0.8309 - val_rmse: 0.1252\n",
            "Epoch 66/70\n",
            "9039/9039 [==============================] - 4s 453us/sample - loss: 2.1177 - rmse: 0.1785 - val_loss: 0.8082 - val_rmse: 0.1297\n",
            "Epoch 67/70\n",
            "9039/9039 [==============================] - 4s 433us/sample - loss: 2.0674 - rmse: 0.1769 - val_loss: 0.7876 - val_rmse: 0.1284\n",
            "Epoch 68/70\n",
            "9039/9039 [==============================] - 4s 416us/sample - loss: 2.0176 - rmse: 0.1745 - val_loss: 0.7709 - val_rmse: 0.1464\n",
            "Epoch 69/70\n",
            "9039/9039 [==============================] - 4s 434us/sample - loss: 1.9679 - rmse: 0.1698 - val_loss: 0.7481 - val_rmse: 0.1164\n",
            "Epoch 70/70\n",
            "9039/9039 [==============================] - 4s 413us/sample - loss: 1.9203 - rmse: 0.1671 - val_loss: 0.7310 - val_rmse: 0.1172\n"
          ],
          "name": "stdout"
        }
      ]
    },
    {
      "cell_type": "code",
      "metadata": {
        "id": "Mv_aduaW5TGk",
        "colab_type": "code",
        "outputId": "60a5fd03-d0b4-456d-9331-58b1d8676e75",
        "colab": {
          "base_uri": "https://localhost:8080/",
          "height": 1000
        }
      },
      "source": [
        "model_history = model.fit(X[:train_num], y[:train_num], epochs=50, validation_data=(X[train_num:], y[train_num:]))"
      ],
      "execution_count": 0,
      "outputs": [
        {
          "output_type": "stream",
          "text": [
            "Train on 12783 samples, validate on 130 samples\n",
            "Epoch 1/50\n",
            "12783/12783 [==============================] - 6s 484us/sample - loss: 279.2831 - val_loss: 319.3115\n",
            "Epoch 2/50\n",
            "12783/12783 [==============================] - 5s 422us/sample - loss: 191.5689 - val_loss: 234.6184\n",
            "Epoch 3/50\n",
            "12783/12783 [==============================] - 5s 423us/sample - loss: 131.4395 - val_loss: 161.1151\n",
            "Epoch 4/50\n",
            "12783/12783 [==============================] - 5s 424us/sample - loss: 91.7885 - val_loss: 115.5957\n",
            "Epoch 5/50\n",
            "12783/12783 [==============================] - 5s 425us/sample - loss: 67.1896 - val_loss: 84.1291\n",
            "Epoch 6/50\n",
            "12783/12783 [==============================] - 5s 422us/sample - loss: 50.7798 - val_loss: 61.4404\n",
            "Epoch 7/50\n",
            "12783/12783 [==============================] - 5s 410us/sample - loss: 39.3145 - val_loss: 44.9566\n",
            "Epoch 8/50\n",
            "12783/12783 [==============================] - 5s 422us/sample - loss: 31.2650 - val_loss: 33.1050\n",
            "Epoch 9/50\n",
            "12783/12783 [==============================] - 6s 433us/sample - loss: 25.5150 - val_loss: 24.6177\n",
            "Epoch 10/50\n",
            "12783/12783 [==============================] - 5s 420us/sample - loss: 21.4029 - val_loss: 18.4927\n",
            "Epoch 11/50\n",
            "12783/12783 [==============================] - 6s 432us/sample - loss: 18.4064 - val_loss: 14.0286\n",
            "Epoch 12/50\n",
            "12783/12783 [==============================] - 5s 422us/sample - loss: 16.2246 - val_loss: 10.7605\n",
            "Epoch 13/50\n",
            "12783/12783 [==============================] - 6s 432us/sample - loss: 14.6010 - val_loss: 8.4350\n",
            "Epoch 14/50\n",
            "12783/12783 [==============================] - 5s 430us/sample - loss: 13.3389 - val_loss: 6.7842\n",
            "Epoch 15/50\n",
            "12783/12783 [==============================] - 6s 431us/sample - loss: 12.3399 - val_loss: 5.5618\n",
            "Epoch 16/50\n",
            "12783/12783 [==============================] - 5s 428us/sample - loss: 11.5038 - val_loss: 4.7617\n",
            "Epoch 17/50\n",
            "12783/12783 [==============================] - 5s 429us/sample - loss: 10.7763 - val_loss: 4.0403\n",
            "Epoch 18/50\n",
            "12783/12783 [==============================] - 5s 418us/sample - loss: 10.1449 - val_loss: 3.4211\n",
            "Epoch 19/50\n",
            "12783/12783 [==============================] - 5s 422us/sample - loss: 9.4423 - val_loss: 2.7730\n",
            "Epoch 20/50\n",
            "12783/12783 [==============================] - 5s 427us/sample - loss: 8.4818 - val_loss: 2.2093\n",
            "Epoch 21/50\n",
            "12783/12783 [==============================] - 5s 415us/sample - loss: 7.8374 - val_loss: 1.6110\n",
            "Epoch 22/50\n",
            "12783/12783 [==============================] - 6s 433us/sample - loss: 7.1996 - val_loss: 1.3725\n",
            "Epoch 23/50\n",
            "12783/12783 [==============================] - 5s 423us/sample - loss: 6.7167 - val_loss: 1.1532\n",
            "Epoch 24/50\n",
            "12783/12783 [==============================] - 6s 465us/sample - loss: 6.3125 - val_loss: 1.0023\n",
            "Epoch 25/50\n",
            "12783/12783 [==============================] - 6s 447us/sample - loss: 5.9594 - val_loss: 0.8629\n",
            "Epoch 26/50\n",
            "12783/12783 [==============================] - 5s 427us/sample - loss: 5.6485 - val_loss: 0.7417\n",
            "Epoch 27/50\n",
            "12783/12783 [==============================] - 6s 430us/sample - loss: 5.3672 - val_loss: 0.6611\n",
            "Epoch 28/50\n",
            "12783/12783 [==============================] - 5s 424us/sample - loss: 5.1090 - val_loss: 0.5673\n",
            "Epoch 29/50\n",
            "12783/12783 [==============================] - 5s 423us/sample - loss: 4.8708 - val_loss: 0.5157\n",
            "Epoch 30/50\n",
            "12783/12783 [==============================] - 5s 427us/sample - loss: 4.6485 - val_loss: 0.4475\n",
            "Epoch 31/50\n",
            "12783/12783 [==============================] - 6s 433us/sample - loss: 4.4405 - val_loss: 0.4082\n",
            "Epoch 32/50\n",
            "12783/12783 [==============================] - 5s 417us/sample - loss: 4.2460 - val_loss: 0.3805\n",
            "Epoch 33/50\n",
            "12783/12783 [==============================] - 5s 429us/sample - loss: 4.0737 - val_loss: 0.3090\n",
            "Epoch 34/50\n",
            "12783/12783 [==============================] - 5s 424us/sample - loss: 3.8978 - val_loss: 0.2769\n",
            "Epoch 35/50\n",
            "12783/12783 [==============================] - 6s 432us/sample - loss: 3.7349 - val_loss: 0.2490\n",
            "Epoch 36/50\n",
            "12783/12783 [==============================] - 6s 433us/sample - loss: 3.5845 - val_loss: 0.2206\n",
            "Epoch 37/50\n",
            "12783/12783 [==============================] - 5s 426us/sample - loss: 3.1075 - val_loss: 0.1679\n",
            "Epoch 38/50\n",
            "12783/12783 [==============================] - 5s 426us/sample - loss: 2.5571 - val_loss: 0.1158\n",
            "Epoch 39/50\n",
            "12783/12783 [==============================] - 5s 426us/sample - loss: 2.4502 - val_loss: 0.0922\n",
            "Epoch 40/50\n",
            "12783/12783 [==============================] - 5s 418us/sample - loss: 2.3603 - val_loss: 0.0734\n",
            "Epoch 41/50\n",
            "12783/12783 [==============================] - 5s 425us/sample - loss: 2.2756 - val_loss: 0.0544\n",
            "Epoch 42/50\n",
            "12783/12783 [==============================] - 6s 432us/sample - loss: 2.1970 - val_loss: 0.0487\n",
            "Epoch 43/50\n",
            "12783/12783 [==============================] - 5s 414us/sample - loss: 2.1196 - val_loss: 0.0377\n",
            "Epoch 44/50\n",
            "12783/12783 [==============================] - 6s 433us/sample - loss: 2.0477 - val_loss: 0.0383\n",
            "Epoch 45/50\n",
            "12783/12783 [==============================] - 5s 415us/sample - loss: 1.9784 - val_loss: 0.0309\n",
            "Epoch 46/50\n",
            "12783/12783 [==============================] - 6s 435us/sample - loss: 1.9112 - val_loss: 0.0289\n",
            "Epoch 47/50\n",
            "12783/12783 [==============================] - 5s 430us/sample - loss: 1.8482 - val_loss: 0.0254\n",
            "Epoch 48/50\n",
            "12783/12783 [==============================] - 6s 438us/sample - loss: 1.7885 - val_loss: 0.0222\n",
            "Epoch 49/50\n",
            "12783/12783 [==============================] - 6s 463us/sample - loss: 1.7324 - val_loss: 0.0196\n",
            "Epoch 50/50\n",
            "12783/12783 [==============================] - 6s 446us/sample - loss: 1.6787 - val_loss: 0.0183\n"
          ],
          "name": "stdout"
        }
      ]
    },
    {
      "cell_type": "code",
      "metadata": {
        "id": "NhwRemqH5lJd",
        "colab_type": "code",
        "outputId": "268bd97d-c221-4171-9ad8-bf57cf91ef03",
        "colab": {
          "base_uri": "https://localhost:8080/",
          "height": 281
        }
      },
      "source": [
        "val_loss = model_historu.history['val_loss']\n",
        "loss = model_historu.history['loss']\n",
        "\n",
        "plt.plot(val_loss, 'r', label=\"Validation Loss\")\n",
        "plt.plot(loss, 'b', label=\"Training Loss\")\n",
        "plt.legend()\n",
        "plt.xlabel('Number of Epochs')\n",
        "plt.ylabel('Loss')\n",
        "plt.show()"
      ],
      "execution_count": 34,
      "outputs": [
        {
          "output_type": "display_data",
          "data": {
            "image/png": "[encoded data removed]",
            "text/plain": [
              "<Figure size 432x288 with 1 Axes>"
            ]
          },
          "metadata": {
            "tags": []
          }
        }
      ]
    },
    {
      "cell_type": "code",
      "metadata": {
        "id": "hRwAi-A1-mKx",
        "colab_type": "code",
        "colab": {}
      },
      "source": [
        "testing_set = X[train_num:]\n",
        "val_test_set = y[train_num:]"
      ],
      "execution_count": 0,
      "outputs": []
    },
    {
      "cell_type": "code",
      "metadata": {
        "id": "20sdRLIMQgVB",
        "colab_type": "code",
        "outputId": "c507cb05-b99e-4f1c-8b24-6bc768bc1e4d",
        "colab": {
          "base_uri": "https://localhost:8080/",
          "height": 34
        }
      },
      "source": [
        "print(testing_set.shape,\"\\t\",val_test_set.shape)"
      ],
      "execution_count": 36,
      "outputs": [
        {
          "output_type": "stream",
          "text": [
            "(3874, 15, 6) \t (3874, 6)\n"
          ],
          "name": "stdout"
        }
      ]
    },
    {
      "cell_type": "code",
      "metadata": {
        "id": "Zjft5qMMQlJW",
        "colab_type": "code",
        "colab": {}
      },
      "source": [
        "my_set = testing_set[0][:,2]"
      ],
      "execution_count": 0,
      "outputs": []
    },
    {
      "cell_type": "code",
      "metadata": {
        "id": "XRlrQwfIQ_NG",
        "colab_type": "code",
        "colab": {}
      },
      "source": [
        "for i in range(1,testing_set.shape[0]):\n",
        "  np.append(my_set, testing_set[i][:,2])"
      ],
      "execution_count": 0,
      "outputs": []
    },
    {
      "cell_type": "code",
      "metadata": {
        "id": "BtVQ0eNKRAWM",
        "colab_type": "code",
        "colab": {}
      },
      "source": [
        ""
      ],
      "execution_count": 0,
      "outputs": []
    },
    {
      "cell_type": "code",
      "metadata": {
        "id": "KONXVr5bRXZ2",
        "colab_type": "code",
        "outputId": "034c1623-f4ea-424a-fc1c-709f6d9ab21c",
        "colab": {
          "base_uri": "https://localhost:8080/",
          "height": 50
        }
      },
      "source": [
        "index = -34\n",
        "print(\"Predicted Rainfall: \",model.predict(X[index].reshape(1, T, D))[0][2])\n",
        "print(\"Actual Rainfall: \",y[index][2])"
      ],
      "execution_count": 39,
      "outputs": [
        {
          "output_type": "stream",
          "text": [
            "Predicted Rainfall:  0.032904148\n",
            "Actual Rainfall:  0.0\n"
          ],
          "name": "stdout"
        }
      ]
    },
    {
      "cell_type": "code",
      "metadata": {
        "id": "XkAxSmXeRqSe",
        "colab_type": "code",
        "colab": {}
      },
      "source": [
        "actual_rainfall = []\n",
        "predicted_rainfall = []\n",
        "\n",
        "for i in range(testing_set.shape[0]):\n",
        "  actual_rainfall.append(val_test_set[i][2])\n",
        "  predicted_rainfall.append(model.predict(testing_set[i].reshape(-1, T, D))[0][2])"
      ],
      "execution_count": 0,
      "outputs": []
    },
    {
      "cell_type": "code",
      "metadata": {
        "id": "jeG0yqG2T86l",
        "colab_type": "code",
        "outputId": "4ccbdfd4-0997-487c-a68f-e0f543e22323",
        "colab": {
          "base_uri": "https://localhost:8080/",
          "height": 1000
        }
      },
      "source": [
        "actual_rainfall"
      ],
      "execution_count": 0,
      "outputs": [
        {
          "output_type": "execute_result",
          "data": {
            "text/plain": [
              "[0.0,\n",
              " 0.0411987456,\n",
              " 0.0,\n",
              " 0.0,\n",
              " 0.0,\n",
              " 0.0,\n",
              " 0.0,\n",
              " 0.0,\n",
              " 0.0,\n",
              " 0.0,\n",
              " 0.0,\n",
              " 0.0,\n",
              " 0.0,\n",
              " 0.0017166132,\n",
              " 0.0,\n",
              " 0.0,\n",
              " 0.0,\n",
              " 0.0,\n",
              " 0.0,\n",
              " 0.0,\n",
              " 0.0,\n",
              " 0.0,\n",
              " 0.0,\n",
              " 0.0,\n",
              " 0.0,\n",
              " 0.0,\n",
              " 0.0034332264000000003,\n",
              " 0.0017166132,\n",
              " 0.0,\n",
              " 0.0,\n",
              " 0.0,\n",
              " 0.0,\n",
              " 0.0,\n",
              " 0.0,\n",
              " 0.0,\n",
              " 0.0,\n",
              " 0.0,\n",
              " 0.0,\n",
              " 0.0,\n",
              " 0.0,\n",
              " 0.0,\n",
              " 1.5037531919999998,\n",
              " 0.08239752,\n",
              " 0.00686646,\n",
              " 0.0,\n",
              " 0.0,\n",
              " 0.0,\n",
              " 0.0,\n",
              " 0.0,\n",
              " 0.0,\n",
              " 0.0,\n",
              " 0.0,\n",
              " 0.0,\n",
              " 0.0034332264000000003,\n",
              " 0.0,\n",
              " 0.0,\n",
              " 0.0411987384,\n",
              " 0.0274658328,\n",
              " 0.0,\n",
              " 0.0,\n",
              " 0.0017166132,\n",
              " 0.0,\n",
              " 0.0,\n",
              " 0.0034332264000000003,\n",
              " 0.0034332264000000003,\n",
              " 0.0,\n",
              " 0.0,\n",
              " 0.0188827452,\n",
              " 0.0,\n",
              " 0.0,\n",
              " 0.0,\n",
              " 0.0,\n",
              " 0.0,\n",
              " 0.0,\n",
              " 0.0,\n",
              " 0.0,\n",
              " 0.0,\n",
              " 0.0,\n",
              " 0.0,\n",
              " 0.0,\n",
              " 0.0,\n",
              " 0.0,\n",
              " 0.0,\n",
              " 0.0,\n",
              " 0.0017166132,\n",
              " 0.0,\n",
              " 0.0034332264000000003,\n",
              " 0.0,\n",
              " 0.0,\n",
              " 0.0017166132,\n",
              " 0.0,\n",
              " 0.0,\n",
              " 0.0,\n",
              " 0.0,\n",
              " 0.0961303608,\n",
              " 0.024032592,\n",
              " 0.0,\n",
              " 0.0,\n",
              " 0.0,\n",
              " 0.0,\n",
              " 0.0,\n",
              " 0.0,\n",
              " 0.127029492,\n",
              " 0.0,\n",
              " 0.0,\n",
              " 0.01373292,\n",
              " 0.0205993584,\n",
              " 0.024032592,\n",
              " 0.0,\n",
              " 0.0,\n",
              " 0.0,\n",
              " 0.0,\n",
              " 0.0017166132,\n",
              " 0.0,\n",
              " 0.0,\n",
              " 0.0,\n",
              " 0.537299712,\n",
              " 0.0,\n",
              " 0.0017166132,\n",
              " 0.0,\n",
              " 0.0,\n",
              " 0.0,\n",
              " 0.0,\n",
              " 0.205993944,\n",
              " 0.0411986664,\n",
              " 2.0942713584,\n",
              " 39.75165684,\n",
              " 21.567559356,\n",
              " 0.84114072,\n",
              " 4.07180844]"
            ]
          },
          "metadata": {
            "tags": []
          },
          "execution_count": 150
        }
      ]
    },
    {
      "cell_type": "code",
      "metadata": {
        "id": "lkHRnFocT-d0",
        "colab_type": "code",
        "outputId": "12b38485-8d19-49f7-adf9-b40083dd8333",
        "colab": {
          "base_uri": "https://localhost:8080/",
          "height": 1000
        }
      },
      "source": [
        "predicted_rainfall"
      ],
      "execution_count": 0,
      "outputs": [
        {
          "output_type": "execute_result",
          "data": {
            "text/plain": [
              "[0.021379948,\n",
              " 0.068362236,\n",
              " -0.029243946,\n",
              " -0.027490616,\n",
              " -0.10032177,\n",
              " -0.026294231,\n",
              " 0.03507662,\n",
              " 0.06428623,\n",
              " -0.053126335,\n",
              " 9.393692e-05,\n",
              " -0.042243958,\n",
              " -0.01442337,\n",
              " -0.030019283,\n",
              " 0.15346146,\n",
              " 0.08742666,\n",
              " -0.015255451,\n",
              " 0.035598755,\n",
              " 0.06872368,\n",
              " 0.090286255,\n",
              " -0.0038247108,\n",
              " 0.0023479462,\n",
              " 0.0021300316,\n",
              " 0.05141306,\n",
              " 0.073523045,\n",
              " -0.036128044,\n",
              " 0.082074165,\n",
              " 0.06963444,\n",
              " 0.04065752,\n",
              " 0.024952412,\n",
              " 0.18060207,\n",
              " -0.034706116,\n",
              " -0.030109882,\n",
              " 0.042958736,\n",
              " 0.031134605,\n",
              " 0.06688452,\n",
              " 0.08219719,\n",
              " 0.07787514,\n",
              " 0.022433758,\n",
              " -0.031401634,\n",
              " -0.06482983,\n",
              " 0.019224644,\n",
              " 1.5268345,\n",
              " 0.12815332,\n",
              " 0.0035963058,\n",
              " 0.042815685,\n",
              " -0.014507771,\n",
              " -0.007733345,\n",
              " -0.0008955002,\n",
              " 0.029093266,\n",
              " -0.031885147,\n",
              " -0.017334938,\n",
              " -0.057122707,\n",
              " -0.029808998,\n",
              " -0.058151245,\n",
              " -0.085511684,\n",
              " -0.041329384,\n",
              " 0.13500738,\n",
              " 0.07347059,\n",
              " 0.017178535,\n",
              " -0.04020071,\n",
              " 0.014151096,\n",
              " -0.00046300888,\n",
              " 0.04944992,\n",
              " 0.024179935,\n",
              " -0.034080982,\n",
              " -0.03493023,\n",
              " 0.039815426,\n",
              " 0.09126854,\n",
              " -0.0076298714,\n",
              " -0.031058788,\n",
              " -0.004392624,\n",
              " -0.024939537,\n",
              " -0.012574196,\n",
              " -0.028967857,\n",
              " -0.054288387,\n",
              " -0.13006544,\n",
              " -0.06901741,\n",
              " -0.14080954,\n",
              " 0.08009386,\n",
              " -0.1777935,\n",
              " 0.025997639,\n",
              " 0.102509975,\n",
              " -0.02198124,\n",
              " -0.1140728,\n",
              " 0.010749817,\n",
              " -0.009776592,\n",
              " 0.06204033,\n",
              " 0.6696367,\n",
              " 0.38145638,\n",
              " 0.55258465,\n",
              " 1.0115776,\n",
              " 0.12006664,\n",
              " 0.22630215,\n",
              " 0.17412901,\n",
              " 0.1693697,\n",
              " -0.08599186,\n",
              " 0.13872576,\n",
              " 0.03134632,\n",
              " -0.006714344,\n",
              " 0.47806215,\n",
              " -0.0686059,\n",
              " -0.05387163,\n",
              " 0.10942221,\n",
              " 0.03853798,\n",
              " -0.1173439,\n",
              " -0.16637993,\n",
              " -0.14892578,\n",
              " -0.055538654,\n",
              " -0.13528538,\n",
              " -0.030842304,\n",
              " -0.03617239,\n",
              " -0.08867359,\n",
              " -0.080049515,\n",
              " -0.06816006,\n",
              " -0.032433033,\n",
              " -0.07274532,\n",
              " 0.52778244,\n",
              " -0.047822952,\n",
              " 0.0010752678,\n",
              " -0.052502155,\n",
              " 0.053140163,\n",
              " 0.06318474,\n",
              " -0.012189865,\n",
              " 0.11543703,\n",
              " 0.022432327,\n",
              " 2.0048046,\n",
              " 38.06032,\n",
              " 21.094322,\n",
              " 0.7934694,\n",
              " 4.0544815]"
            ]
          },
          "metadata": {
            "tags": []
          },
          "execution_count": 151
        }
      ]
    },
    {
      "cell_type": "code",
      "metadata": {
        "id": "T3lD2kssT__7",
        "colab_type": "code",
        "outputId": "704caefd-737e-4c8d-c5d2-32eecfc8af1c",
        "colab": {
          "base_uri": "https://localhost:8080/",
          "height": 265
        }
      },
      "source": [
        "plt.plot(actual_rainfall[-400:-350], 'r', label=\"Actual Rainfall\")\n",
        "plt.plot(predicted_rainfall[-400:-350], 'b', label=\"Predicted Rainfall\")\n",
        "plt.ylabel(\"Rainfall\")\n",
        "plt.legend()\n",
        "plt.show()"
      ],
      "execution_count": 46,
      "outputs": [
        {
          "output_type": "display_data",
          "data": {
            "image/png": "[encoded data removed]",
            "text/plain": [
              "<Figure size 432x288 with 1 Axes>"
            ]
          },
          "metadata": {
            "tags": []
          }
        }
      ]
    },
    {
      "cell_type": "code",
      "metadata": {
        "id": "2vjfg9hbUPQs",
        "colab_type": "code",
        "colab": {}
      },
      "source": [
        "series = []\n",
        "for i in range(df.shape[0]-2000,df.shape[0]-1500):\n",
        "  series.append([df.iloc[i]['Max Temperature'], df.iloc[i]['Min Temperature'], df.iloc[i]['Precipitation'], df.iloc[i]['Wind'], df.iloc[i]['Relative Humidity'], df.iloc[i]['Solar']])\n"
      ],
      "execution_count": 0,
      "outputs": []
    },
    {
      "cell_type": "code",
      "metadata": {
        "id": "LG8iP2aBH06Q",
        "colab_type": "code",
        "colab": {}
      },
      "source": [
        "series = np.array(series)"
      ],
      "execution_count": 0,
      "outputs": []
    },
    {
      "cell_type": "code",
      "metadata": {
        "id": "ICeTyUWvH6EU",
        "colab_type": "code",
        "colab": {
          "base_uri": "https://localhost:8080/",
          "height": 34
        },
        "outputId": "dd016433-23cd-4438-f6f2-f577cba537ce"
      },
      "source": [
        "series.shape"
      ],
      "execution_count": 63,
      "outputs": [
        {
          "output_type": "execute_result",
          "data": {
            "text/plain": [
              "(500, 6)"
            ]
          },
          "metadata": {
            "tags": []
          },
          "execution_count": 63
        }
      ]
    },
    {
      "cell_type": "code",
      "metadata": {
        "id": "HbOj9GjhH7Fs",
        "colab_type": "code",
        "colab": {}
      },
      "source": [
        "predictions = np.array(series[:15])"
      ],
      "execution_count": 0,
      "outputs": []
    },
    {
      "cell_type": "code",
      "metadata": {
        "id": "hYSDei5LH9R0",
        "colab_type": "code",
        "colab": {}
      },
      "source": [
        "\n",
        "for i in range(len(series)-T):\n",
        "  curr_X = predictions[-T:]\n",
        "  predictions = np.append(predictions, model.predict(np.array(curr_X).reshape(1,15,6))[0])\n",
        "  predictions = predictions.reshape(-1, 6)"
      ],
      "execution_count": 0,
      "outputs": []
    },
    {
      "cell_type": "code",
      "metadata": {
        "id": "6fzrAUSUH-0L",
        "colab_type": "code",
        "colab": {
          "base_uri": "https://localhost:8080/",
          "height": 34
        },
        "outputId": "3d27f92a-6477-45e2-9fda-f9d925354f48"
      },
      "source": [
        "predictions.shape"
      ],
      "execution_count": 66,
      "outputs": [
        {
          "output_type": "execute_result",
          "data": {
            "text/plain": [
              "(500, 6)"
            ]
          },
          "metadata": {
            "tags": []
          },
          "execution_count": 66
        }
      ]
    },
    {
      "cell_type": "code",
      "metadata": {
        "id": "jIszDfVZICOc",
        "colab_type": "code",
        "colab": {}
      },
      "source": [
        "actual_rainfall = series[:,2]\n",
        "predicted_rainfall = predictions[:,2]"
      ],
      "execution_count": 0,
      "outputs": []
    },
    {
      "cell_type": "code",
      "metadata": {
        "id": "AbyerSyRICw8",
        "colab_type": "code",
        "colab": {
          "base_uri": "https://localhost:8080/",
          "height": 34
        },
        "outputId": "0aa9d0f0-3198-4fdf-caeb-795785f8be73"
      },
      "source": [
        "actual_rainfall.shape"
      ],
      "execution_count": 68,
      "outputs": [
        {
          "output_type": "execute_result",
          "data": {
            "text/plain": [
              "(500,)"
            ]
          },
          "metadata": {
            "tags": []
          },
          "execution_count": 68
        }
      ]
    },
    {
      "cell_type": "code",
      "metadata": {
        "id": "AI7_CioeIGb0",
        "colab_type": "code",
        "colab": {
          "base_uri": "https://localhost:8080/",
          "height": 1000
        },
        "outputId": "3a49a067-e1a4-445a-e358-afbefb8e3287"
      },
      "source": [
        "predicted_rainfall"
      ],
      "execution_count": 58,
      "outputs": [
        {
          "output_type": "execute_result",
          "data": {
            "text/plain": [
              "array([0.        , 0.        , 0.        , 0.        , 0.00171661,\n",
              "       0.        , 0.        , 0.        , 0.        , 0.15792851,\n",
              "       0.        , 0.        , 0.        , 0.        , 0.        ,\n",
              "       0.        , 0.        , 0.        , 0.        , 0.        ,\n",
              "       0.        , 0.        , 0.        , 0.        , 0.        ,\n",
              "       0.        , 0.        , 0.        , 0.        , 0.        ,\n",
              "       0.        , 0.        , 0.        , 0.        , 0.        ,\n",
              "       0.        , 0.        , 0.        , 0.        , 0.        ,\n",
              "       0.        , 0.        , 0.        , 0.        , 0.        ,\n",
              "       0.        , 0.        , 0.        , 0.        , 0.        ,\n",
              "       0.        , 0.        , 0.        , 0.        , 0.        ,\n",
              "       0.        , 0.        , 0.        , 0.        , 0.        ,\n",
              "       0.        , 0.        , 0.        , 0.        , 0.        ,\n",
              "       0.        , 0.        , 0.        , 0.        , 0.        ,\n",
              "       0.        , 0.        , 0.        , 0.        , 0.        ,\n",
              "       0.        , 0.        , 0.        , 0.        , 0.        ,\n",
              "       0.        , 0.        , 0.        , 0.        , 0.        ,\n",
              "       0.        , 0.        , 0.        , 0.        , 0.        ,\n",
              "       0.        , 0.        , 0.        , 0.        , 0.        ,\n",
              "       0.        , 0.        , 0.        , 0.        , 0.        ,\n",
              "       0.        , 0.        , 0.        , 0.        , 0.        ,\n",
              "       0.        , 0.        , 0.        , 0.        , 0.        ,\n",
              "       0.        , 0.        , 0.        , 0.        , 0.        ,\n",
              "       0.        , 0.        , 0.        , 0.        , 0.        ,\n",
              "       0.        , 0.        , 0.        , 0.        , 0.        ,\n",
              "       0.        , 0.        , 0.        , 0.        , 0.        ,\n",
              "       0.        , 0.        , 0.        , 0.        , 0.        ,\n",
              "       0.        , 0.        , 0.        , 0.        , 0.        ,\n",
              "       0.        , 0.        , 0.        , 0.        , 0.        ,\n",
              "       0.        , 0.        , 0.        , 0.        , 0.        ,\n",
              "       0.        , 0.        , 0.        , 0.        , 0.        ,\n",
              "       0.        , 0.        , 0.        , 0.        , 0.        ,\n",
              "       0.        , 0.        , 0.        , 0.        , 0.        ,\n",
              "       0.        , 0.        , 0.        , 0.        , 0.        ,\n",
              "       0.        , 0.        , 0.        , 0.        , 0.        ,\n",
              "       0.        , 0.        , 0.        , 0.        , 0.        ,\n",
              "       0.        , 0.        , 0.        , 0.        , 0.        ,\n",
              "       0.        , 0.        , 0.        , 0.        , 0.        ,\n",
              "       0.        , 0.        , 0.        , 0.        , 0.        ,\n",
              "       0.        , 0.        , 0.        , 0.        , 0.        ,\n",
              "       0.        , 0.        , 0.        , 0.        , 0.        ,\n",
              "       0.        , 0.        , 0.        , 0.        , 0.        ,\n",
              "       0.        , 0.        , 0.        , 0.        , 0.        ,\n",
              "       0.        , 0.        , 0.        , 0.        , 0.        ,\n",
              "       0.        , 0.        , 0.        , 0.        , 0.        ,\n",
              "       0.        , 0.        , 0.        , 0.        , 0.        ,\n",
              "       0.        , 0.        , 0.        , 0.        , 0.        ,\n",
              "       0.        , 0.        , 0.        , 0.        , 0.        ,\n",
              "       0.        , 0.        , 0.        , 0.        , 0.        ,\n",
              "       0.        , 0.        , 0.        , 0.        , 0.        ,\n",
              "       0.        , 0.        , 0.        , 0.        , 0.        ,\n",
              "       0.        , 0.        , 0.        , 0.        , 0.        ,\n",
              "       0.        , 0.        , 0.        , 0.        , 0.        ,\n",
              "       0.        , 0.        , 0.        , 0.        , 0.        ,\n",
              "       0.        , 0.        , 0.        , 0.        , 0.        ,\n",
              "       0.        , 0.        , 0.        , 0.        , 0.        ,\n",
              "       0.        , 0.        , 0.        , 0.        , 0.        ,\n",
              "       0.        , 0.        , 0.        , 0.        , 0.        ,\n",
              "       0.        , 0.        , 0.        , 0.        , 0.        ,\n",
              "       0.        , 0.        , 0.        , 0.        , 0.        ,\n",
              "       0.        , 0.        , 0.        , 0.        , 0.        ,\n",
              "       0.        , 0.        , 0.        , 0.        , 0.        ,\n",
              "       0.        , 0.        , 0.        , 0.        , 0.        ,\n",
              "       0.        , 0.        , 0.        , 0.        , 0.        ,\n",
              "       0.        , 0.        , 0.        , 0.        , 0.        ,\n",
              "       0.        , 0.        , 0.        , 0.        , 0.        ,\n",
              "       0.        , 0.        , 0.        , 0.        , 0.        ,\n",
              "       0.        , 0.        , 0.        , 0.        , 0.        ,\n",
              "       0.        , 0.        , 0.        , 0.        , 0.        ,\n",
              "       0.        , 0.        , 0.        , 0.        , 0.        ,\n",
              "       0.        , 0.        , 0.        , 0.        , 0.        ,\n",
              "       0.        , 0.        , 0.        , 0.        , 0.        ,\n",
              "       0.        , 0.        , 0.        , 0.        , 0.        ,\n",
              "       0.        , 0.        , 0.        , 0.        , 0.        ,\n",
              "       0.        , 0.        , 0.        , 0.        , 0.        ,\n",
              "       0.        , 0.        , 0.        , 0.        , 0.        ,\n",
              "       0.        , 0.        , 0.        , 0.        , 0.        ,\n",
              "       0.        , 0.        , 0.        , 0.        , 0.        ,\n",
              "       0.        , 0.        , 0.        , 0.        , 0.        ,\n",
              "       0.        , 0.        , 0.        , 0.        , 0.        ,\n",
              "       0.        , 0.        , 0.        , 0.        , 0.        ,\n",
              "       0.        , 0.        , 0.        , 0.        , 0.        ,\n",
              "       0.        , 0.        , 0.        , 0.        , 0.        ,\n",
              "       0.        , 0.        , 0.        , 0.        , 0.        ,\n",
              "       0.        , 0.        , 0.        , 0.        , 0.        ,\n",
              "       0.        , 0.        , 0.        , 0.        , 0.        ,\n",
              "       0.        , 0.        , 0.        , 0.        , 0.        ,\n",
              "       0.        , 0.        , 0.        , 0.        , 0.        ,\n",
              "       0.        , 0.        , 0.        , 0.        , 0.        ,\n",
              "       0.        , 0.        , 0.        , 0.        , 0.        ,\n",
              "       0.        , 0.        , 0.        , 0.        , 0.        ,\n",
              "       0.        , 0.        , 0.        , 0.        , 0.        ,\n",
              "       0.        , 0.        , 0.        , 0.        , 0.        ,\n",
              "       0.        , 0.        , 0.        , 0.        , 0.        ,\n",
              "       0.        , 0.        , 0.        , 0.        , 0.        ,\n",
              "       0.        , 0.        , 0.        , 0.        , 0.        ,\n",
              "       0.        , 0.        , 0.        , 0.        , 0.        ,\n",
              "       0.        , 0.        , 0.        , 0.        , 0.        ,\n",
              "       0.        , 0.        , 0.        , 0.        , 0.        ,\n",
              "       0.        , 0.        , 0.        , 0.        , 0.        ])"
            ]
          },
          "metadata": {
            "tags": []
          },
          "execution_count": 58
        }
      ]
    },
    {
      "cell_type": "code",
      "metadata": {
        "id": "K2L87OXkIIWs",
        "colab_type": "code",
        "colab": {
          "base_uri": "https://localhost:8080/",
          "height": 269
        },
        "outputId": "a4e4b0f9-eba4-4ecc-c2a8-08e7c0ec67d6"
      },
      "source": [
        "plt.plot(actual_rainfall[15:400], 'r', label=\"Actual Rainfall\")\n",
        "plt.plot(predicted_rainfall[15:400], 'b', label=\"Predicted Rainfall\")\n",
        "plt.legend()\n",
        "plt.ylabel(\"Rainfall\")\n",
        "plt.show()"
      ],
      "execution_count": 70,
      "outputs": [
        {
          "output_type": "display_data",
          "data": {
            "image/png": "[encoded data removed]",
            "text/plain": [
              "<Figure size 432x288 with 1 Axes>"
            ]
          },
          "metadata": {
            "tags": []
          }
        }
      ]
    },
    {
      "cell_type": "code",
      "metadata": {
        "id": "ugzpN05CIJO0",
        "colab_type": "code",
        "colab": {
          "base_uri": "https://localhost:8080/",
          "height": 34
        },
        "outputId": "c02e7456-3edc-4cd1-d14c-25bcad2d6ae8"
      },
      "source": [
        "!git init"
      ],
      "execution_count": 72,
      "outputs": [
        {
          "output_type": "stream",
          "text": [
            "Initialized empty Git repository in /content/.git/\n"
          ],
          "name": "stdout"
        }
      ]
    },
    {
      "cell_type": "code",
      "metadata": {
        "id": "kbB12JqeJJMe",
        "colab_type": "code",
        "colab": {}
      },
      "source": [
        "!git config  --global user.email \"ujjwalsinha73@gmail.com\"\n",
        "!git config  --global user.name \"noobie_1999\""
      ],
      "execution_count": 0,
      "outputs": []
    },
    {
      "cell_type": "code",
      "metadata": {
        "id": "ta3D9-uhJVt7",
        "colab_type": "code",
        "colab": {
          "base_uri": "https://localhost:8080/",
          "height": 34
        },
        "outputId": "c439ae01-ec5b-48c0-a662-fa1ab6f6bcc7"
      },
      "source": [
        "!git add \"RainfallLSTM.ipynb\""
      ],
      "execution_count": 79,
      "outputs": [
        {
          "output_type": "stream",
          "text": [
            "fatal: pathspec 'RainfallLSTM.ipynb' did not match any files\n"
          ],
          "name": "stdout"
        }
      ]
    },
    {
      "cell_type": "code",
      "metadata": {
        "id": "rltJzhfEJrYG",
        "colab_type": "code",
        "colab": {}
      },
      "source": [
        ""
      ],
      "execution_count": 0,
      "outputs": []
    }
  ]
}